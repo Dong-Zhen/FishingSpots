{
 "cells": [
  {
   "cell_type": "code",
   "execution_count": 1,
   "metadata": {},
   "outputs": [],
   "source": [
    "import pandas as pd\n",
    "import numpy as np"
   ]
  },
  {
   "cell_type": "code",
   "execution_count": 2,
   "metadata": {},
   "outputs": [],
   "source": [
    "import re\n",
    "import string"
   ]
  },
  {
   "cell_type": "code",
   "execution_count": 3,
   "metadata": {},
   "outputs": [],
   "source": [
    "import datetime\n",
    "import time"
   ]
  },
  {
   "cell_type": "markdown",
   "metadata": {},
   "source": [
    "# Cleaning"
   ]
  },
  {
   "cell_type": "code",
   "execution_count": 4,
   "metadata": {},
   "outputs": [],
   "source": [
    "nyangler_df = pd.read_csv('/home/desbrium/Metis/FishingSpots/Data/NyAngler/NYAnglerPostData06-22-21.csv')\n",
    "\n",
    "nybass_df = pd.read_csv('/home/desbrium/Metis/FishingSpots/Data/NyBass/NYBassPostData06-21-21.csv')"
   ]
  },
  {
   "cell_type": "code",
   "execution_count": 5,
   "metadata": {},
   "outputs": [],
   "source": [
    "nyangler_df.dropna(subset = ['Post_Content'], inplace = True)\n",
    "nybass_df.dropna(subset = ['Post_Content'], inplace = True)"
   ]
  },
  {
   "cell_type": "code",
   "execution_count": 6,
   "metadata": {},
   "outputs": [],
   "source": [
    "dt_pattern = r'(\\w{3}\\s\\d+\\,\\s\\d{4}.{9})'\n",
    "find_date = re.compile(dt_pattern)\n",
    "\n",
    "content_dt = [find_date.findall(content) for content in nybass_df['Post_Content']]\n",
    "\n",
    "nybass_df['Post_Comment_Dates'] = content_dt"
   ]
  },
  {
   "cell_type": "code",
   "execution_count": 7,
   "metadata": {},
   "outputs": [],
   "source": [
    "nybass_df['Post_Content'] = nybass_df['Post_Content'].apply(lambda x : re.sub(dt_pattern, '', x))"
   ]
  },
  {
   "cell_type": "code",
   "execution_count": 8,
   "metadata": {},
   "outputs": [],
   "source": [
    "nyangler_df['Post_Content'] = nyangler_df['Post_Content'].str.replace('\\n', '').str.replace('at ', '').str.lower()\n",
    "nyangler_df['Post_Length'] = nyangler_df['Post_Content'].str.len()\n",
    "\n",
    "nybass_df['Post_Content'] = nybass_df['Post_Content'].str.replace('\\n', '').str.replace('at ', '').str.lower()\n",
    "nybass_df['Post_Length'] = nybass_df['Post_Content'].str.len()"
   ]
  },
  {
   "cell_type": "code",
   "execution_count": 9,
   "metadata": {},
   "outputs": [],
   "source": [
    "nyangler_df['Post_DateTime'] = nyangler_df['Post_DateTime'].str.replace('at ', '')\n",
    "nyangler_df['Post_Date'] = nyangler_df['Post_DateTime'].apply(lambda x: x[:12].rstrip())\n",
    "nyangler_df['Post_Time'] = nyangler_df['Post_DateTime'].apply(lambda x: x[12:].lstrip())\n",
    "nyangler_df['Post_Year'] = nyangler_df['Post_Date'].apply(lambda x: x[-4:])\n",
    "nyangler_df['Post_Month'] = nyangler_df['Post_Date'].apply(lambda x: x[:3])\n",
    "\n",
    "nybass_df['Post_Date'] = nybass_df['Post_Date'].str.replace('at ', '')\n",
    "nybass_df['Post_D'] = nybass_df['Post_Date'].apply(lambda x: x[:12].rstrip())\n",
    "nybass_df['Post_Time'] = nybass_df['Post_Date'].apply(lambda x: x[12:].lstrip())\n",
    "nybass_df['Post_Year'] = nybass_df['Post_D'].apply(lambda x: x[-4:])\n",
    "nybass_df['Post_Month'] = nybass_df['Post_D'].apply(lambda x: x[:3])"
   ]
  },
  {
   "cell_type": "code",
   "execution_count": 10,
   "metadata": {},
   "outputs": [],
   "source": [
    "nybass_mask = nybass_df['Thread_Name'].isin(['Places to Fish/Fishing Reports', 'Tackle and Fishing Tactics', \n",
    "                               'Multi-Species', 'Saltwater'])\n",
    "\n",
    "nyangler_mask = nyangler_df['Thread_Name'].isin(['Fishing Report', 'New York State DEC Updates',\n",
    "       'Inshore Tackle and Techniques with Lep', 'General Discussion',\n",
    "       'Long Island Sound Fishing', 'Sweetwater - Lakes, Reservoirs and Ponds'])"
   ]
  },
  {
   "cell_type": "code",
   "execution_count": 11,
   "metadata": {},
   "outputs": [],
   "source": [
    "# nyangler_df[['Post_Views', 'Post_Replies', 'Thread_Replies', 'Thread_Views']] = 'No Info'\n",
    "\n",
    "# nyanglerbass_masked_df = pd.concat([nyangler_df[nyangler_mask].loc[:, ['Thread_Name', 'Post_Title', 'Post_Year', 'Post_Month', 'Post_Length', 'Post_Content', 'Post_Views', 'Post_Replies', 'Thread_Replies', 'Thread_Views']], \n",
    "#                                     nybass_df[nybass_mask].loc[:, ['Thread_Name', 'Post_Title', 'Post_Year', 'Post_Month', 'Post_Length', 'Post_Content', 'Post_Views', 'Post_Replies', 'Thread_Replies', 'Thread_Views']]], axis = 0)"
   ]
  },
  {
   "cell_type": "code",
   "execution_count": 12,
   "metadata": {},
   "outputs": [],
   "source": [
    "nyanglerbass_masked_df = pd.concat([nyangler_df[nyangler_mask].loc[:, ['Thread_Name', 'Post_Title', 'Post_Year', 'Post_Month', 'Post_Length', 'Post_Content']], \n",
    "                                    nybass_df[nybass_mask].loc[:, ['Thread_Name', 'Post_Title', 'Post_Year', 'Post_Month', 'Post_Length', 'Post_Content', ]]], axis = 0)"
   ]
  },
  {
   "cell_type": "code",
   "execution_count": 13,
   "metadata": {},
   "outputs": [],
   "source": [
    "nyanglerbass_masked_df['Post_Title'] = nyanglerbass_masked_df['Post_Title'].str.lower().str.strip()"
   ]
  },
  {
   "cell_type": "code",
   "execution_count": 14,
   "metadata": {},
   "outputs": [],
   "source": [
    "nyanglerbass_masked_df = nyanglerbass_masked_df[~nyanglerbass_masked_df['Post_Title'].isin(['my joyce fishing montauk', 'my joyce montauk fishing'])]"
   ]
  },
  {
   "cell_type": "code",
   "execution_count": 15,
   "metadata": {},
   "outputs": [],
   "source": [
    "def assign_season(month): \n",
    "    seasons = {'Spring' : ['Mar', 'Apr', 'May'], 'Summer': ['Jun', 'Jul', 'Aug'], 'Fall': ['Sep', 'Oct', 'Nov'], 'Winter': ['Dec', 'Jan', 'Feb']}\n",
    "    \n",
    "    for key, value in seasons.items():    \n",
    "        if month in value:\n",
    "            season = key\n",
    "    return season"
   ]
  },
  {
   "cell_type": "code",
   "execution_count": 16,
   "metadata": {},
   "outputs": [],
   "source": [
    "nyanglerbass_masked_df['Post_Season'] = nyanglerbass_masked_df['Post_Month'].apply(lambda month: assign_season(month))"
   ]
  },
  {
   "cell_type": "code",
   "execution_count": 17,
   "metadata": {},
   "outputs": [],
   "source": [
    "# def lemmatize(document):\n",
    "    \n",
    "#     import spacy\n",
    "#     nlp = spacy.load(\"en_core_web_sm\")\n",
    "    \n",
    "#     new_doc = nlp(document)\n",
    "#     new_doc_lemma = ' '.join([token.lemma_ for token in new_doc])\n",
    "    \n",
    "#     return new_doc_lemma\n",
    "\n",
    "# lemmatized_doc = nyanglerbass_masked_df[\"Post_Content\"].apply(lambda x: lemmatize(x))\n",
    "# lemmatized_doc.to_csv('/home/desbrium/Metis/FishingSpots/Data/lemmatizeddocument.csv', index = False)"
   ]
  },
  {
   "cell_type": "code",
   "execution_count": 18,
   "metadata": {},
   "outputs": [],
   "source": [
    "lemmatized_doc = pd.read_csv('/home/desbrium/Metis/FishingSpots/Data/lemmatizeddocument.csv')\n",
    "\n",
    "nyanglerbass_masked_df = nyanglerbass_masked_df.reset_index()\n",
    "\n",
    "nyanglerbass_masked_df['Lemma_Post_Content'] = lemmatized_doc\n",
    "nyanglerbass_masked_df = nyanglerbass_masked_df.iloc[:, 1:]"
   ]
  },
  {
   "cell_type": "code",
   "execution_count": 19,
   "metadata": {},
   "outputs": [],
   "source": [
    "nyanglerbass_masked_df[\"Lemma_Post_Content\"] = nyanglerbass_masked_df[\"Lemma_Post_Content\"].apply(lambda x: x.replace('flouro', 'fluoro'))\n",
    "nyanglerbass_masked_df[\"Lemma_Post_Content\"] = nyanglerbass_masked_df[\"Lemma_Post_Content\"].apply(lambda x: x.replace('fluoro', 'fluorocarbon'))\n",
    "nyanglerbass_masked_df[\"Lemma_Post_Content\"] = nyanglerbass_masked_df[\"Lemma_Post_Content\"].apply(lambda x: x.replace('fluorocarboncarbon', 'fluorocarbon'))"
   ]
  },
  {
   "cell_type": "code",
   "execution_count": 20,
   "metadata": {},
   "outputs": [],
   "source": [
    "#nyanglerbass_masked_df.to_csv('/home/desbrium/Metis/FishingSpots/Data/nyanglerbass_maskedextra.csv', index = False)\n",
    "nyanglerbass_masked_df.to_csv('/home/desbrium/Metis/FishingSpots/Data/nyanglerbass_masked.csv', index = False)"
   ]
  },
  {
   "cell_type": "markdown",
   "metadata": {},
   "source": [
    "'/home/desbrium/Metis/FishingSpots/Data/nyanglerbass_masked.csv'"
   ]
  }
 ],
 "metadata": {
  "kernelspec": {
   "display_name": "Python 3",
   "language": "python",
   "name": "python3"
  },
  "language_info": {
   "codemirror_mode": {
    "name": "ipython",
    "version": 3
   },
   "file_extension": ".py",
   "mimetype": "text/x-python",
   "name": "python",
   "nbconvert_exporter": "python",
   "pygments_lexer": "ipython3",
   "version": "3.8.5"
  }
 },
 "nbformat": 4,
 "nbformat_minor": 4
}
